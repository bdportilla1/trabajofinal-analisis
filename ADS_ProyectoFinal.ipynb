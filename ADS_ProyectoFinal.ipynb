{
 "cells": [
  {
   "cell_type": "markdown",
   "id": "3ce84b55-fc66-45b5-b321-60509a193bb3",
   "metadata": {},
   "source": [
    "# Análisis de datos y visualización\n",
    "\n",
    "## Proyecto académico final\n",
    "\n",
    "- Nombres:\n",
    "- Fecha: "
   ]
  },
  {
   "cell_type": "code",
   "execution_count": 1,
   "id": "d94dd93e-5ea2-46b8-a129-493f4d86fe24",
   "metadata": {},
   "outputs": [],
   "source": [
    "## 1. Carga de datos"
   ]
  },
  {
   "cell_type": "code",
   "execution_count": null,
   "id": "2a07d985-74f5-4e3f-8700-c72ee302d6a3",
   "metadata": {},
   "outputs": [],
   "source": []
  },
  {
   "cell_type": "code",
   "execution_count": 2,
   "id": "8170c998-2ea3-4e4f-9439-456fb3e5d15f",
   "metadata": {},
   "outputs": [],
   "source": [
    "## 2. EDA"
   ]
  },
  {
   "cell_type": "code",
   "execution_count": null,
   "id": "db173490-0c8b-4ff4-9ca6-6b25adac56ce",
   "metadata": {},
   "outputs": [],
   "source": []
  },
  {
   "cell_type": "code",
   "execution_count": null,
   "id": "a0be0eab-85d2-4a04-a830-c9f4ba39ab5d",
   "metadata": {},
   "outputs": [],
   "source": [
    "## 3. Preparación de datos"
   ]
  },
  {
   "cell_type": "code",
   "execution_count": null,
   "id": "93ef695a-54c7-4a98-b678-4aca172d9827",
   "metadata": {},
   "outputs": [],
   "source": []
  },
  {
   "cell_type": "code",
   "execution_count": null,
   "id": "739c60b0-1699-4d0f-9a02-71585361390c",
   "metadata": {},
   "outputs": [],
   "source": [
    "# 4. Análisis predictivo"
   ]
  },
  {
   "cell_type": "code",
   "execution_count": null,
   "id": "3cbd6e3c-d1df-44f2-9d73-fe5431bdce2a",
   "metadata": {},
   "outputs": [],
   "source": []
  },
  {
   "cell_type": "code",
   "execution_count": 3,
   "id": "a89de45f-1411-4743-a379-8684a47df09c",
   "metadata": {},
   "outputs": [],
   "source": [
    "# 5. Evaluación"
   ]
  },
  {
   "cell_type": "code",
   "execution_count": null,
   "id": "f72d5356-5ea7-44fa-b134-0df6a13068db",
   "metadata": {},
   "outputs": [],
   "source": []
  }
 ],
 "metadata": {
  "kernelspec": {
   "display_name": "Python 3 (ipykernel)",
   "language": "python",
   "name": "python3"
  },
  "language_info": {
   "codemirror_mode": {
    "name": "ipython",
    "version": 3
   },
   "file_extension": ".py",
   "mimetype": "text/x-python",
   "name": "python",
   "nbconvert_exporter": "python",
   "pygments_lexer": "ipython3",
   "version": "3.10.8"
  }
 },
 "nbformat": 4,
 "nbformat_minor": 5
}
